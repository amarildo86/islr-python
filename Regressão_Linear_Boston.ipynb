{
  "nbformat": 4,
  "nbformat_minor": 0,
  "metadata": {
    "colab": {
      "name": "Regressão Linear - Boston.ipynb",
      "provenance": [],
      "authorship_tag": "ABX9TyPuSAow7mEkzjeiR27F5eac",
      "include_colab_link": true
    },
    "kernelspec": {
      "name": "python3",
      "display_name": "Python 3"
    }
  },
  "cells": [
    {
      "cell_type": "markdown",
      "metadata": {
        "id": "view-in-github",
        "colab_type": "text"
      },
      "source": [
        "<a href=\"https://colab.research.google.com/github/amarildo86/islr-python/blob/master/Regress%C3%A3o_Linear_Boston.ipynb\" target=\"_parent\"><img src=\"https://colab.research.google.com/assets/colab-badge.svg\" alt=\"Open In Colab\"/></a>"
      ]
    },
    {
      "cell_type": "code",
      "metadata": {
        "id": "GJRkyJEbyy-J"
      },
      "source": [
        "from sklearn.datasets import load_boston\r\n",
        "from sklearn.model_selection import train_test_split\r\n",
        "from sklearn.preprocessing import MinMaxScaler, PolynomialFeatures\r\n",
        "from sklearn.linear_model import LinearRegression, Ridge, Lasso\r\n",
        "\r\n",
        "import numpy as np\r\n",
        "import matplotlib.pyplot as plt\r\n",
        "%matplotlib inline"
      ],
      "execution_count": null,
      "outputs": []
    },
    {
      "cell_type": "code",
      "metadata": {
        "id": "eq7d3w5f14-4",
        "colab": {
          "base_uri": "https://localhost:8080/"
        },
        "outputId": "b7bbb8a9-4fd6-4a14-8c46-007a26d9d2e2"
      },
      "source": [
        "boston = load_boston()\r\n",
        "X = boston.data\r\n",
        "print('Número de atributos original:')\r\n",
        "print(X.shape)"
      ],
      "execution_count": null,
      "outputs": [
        {
          "output_type": "stream",
          "text": [
            "Número de atributos original:\n",
            "(506, 13)\n"
          ],
          "name": "stdout"
        }
      ]
    },
    {
      "cell_type": "code",
      "metadata": {
        "id": "pXuqBZ2ZBJCY"
      },
      "source": [
        "# o Polynonial Features() aumenta a dimensão dos dados produzindo novos atributos\r\n",
        "# que são combinações lineraes dos dados originais"
      ],
      "execution_count": null,
      "outputs": []
    },
    {
      "cell_type": "code",
      "metadata": {
        "colab": {
          "base_uri": "https://localhost:8080/"
        },
        "id": "3CsF4HjcBbgN",
        "outputId": "bf2dcfd0-7b05-40b4-eace-a1600a8b882a"
      },
      "source": [
        "X = MinMaxScaler().fit_transform(boston.data)\r\n",
        "X = PolynomialFeatures(degree=2, include_bias=False).fit_transform(X)\r\n",
        "\r\n",
        "print('Polynomial Features (atributos redundantes):')\r\n",
        "print(X.shape)\r\n",
        "\r\n",
        "y = boston.target"
      ],
      "execution_count": null,
      "outputs": [
        {
          "output_type": "stream",
          "text": [
            "Polynomial Features (atributos redundantes):\n",
            "(506, 104)\n"
          ],
          "name": "stdout"
        }
      ]
    },
    {
      "cell_type": "markdown",
      "metadata": {
        "id": "gi-KG4RdCzFH"
      },
      "source": [
        "## Regressão Linear\r\n",
        "Os passos para indução de um modelo são:\r\n",
        "\r\n",
        "1. Instanciar o modelo: LinerRegression()\r\n",
        "2. Treinar o modelo: fit()\r\n",
        "\r\n",
        "O método score() retorna o coeficiente R² de predição."
      ]
    },
    {
      "cell_type": "code",
      "metadata": {
        "colab": {
          "base_uri": "https://localhost:8080/"
        },
        "id": "04FXBrYHC1wk",
        "outputId": "fe66bb3e-448f-4ee1-f663-5d50e0b8c2e5"
      },
      "source": [
        "X_train, X_test, y_train, y_test = train_test_split(X, y, random_state=0)\r\n",
        "lr = LinearRegression().fit(X_train, y_train)\r\n",
        "\r\n",
        "print('Regressão Linear (com atributos redundantes):')\r\n",
        "print('Acurácia na base de treinamento: {:.2f}'.format(lr.score(X_train, y_train)))\r\n",
        "print('Acurácia na base de teste: {:.2f}'.format(lr.score(X_test, y_test)))"
      ],
      "execution_count": null,
      "outputs": [
        {
          "output_type": "stream",
          "text": [
            "Regressão Linear (com atributos redundantes):\n",
            "Acurácia na base de treinamento: 0.95\n",
            "Acurácia na base de teste: 0.61\n"
          ],
          "name": "stdout"
        }
      ]
    },
    {
      "cell_type": "markdown",
      "metadata": {
        "id": "GbozEyY8ED_0"
      },
      "source": [
        "## Ridge (regressão linear com regularização L2)\r\n",
        "\r\n",
        "Força uma redução do valor dos coeficientes, penalizando coeficientes grandes que não contribuem significativamente para a explicação da variância dos sinais. A força da regularização é dada pelo atributo *alpha*, com valor *default* igual à 1."
      ]
    },
    {
      "cell_type": "code",
      "metadata": {
        "colab": {
          "base_uri": "https://localhost:8080/"
        },
        "id": "vgSZwzv7Efew",
        "outputId": "7f0820c7-9837-44e6-fcd4-098b5c50103b"
      },
      "source": [
        "ridge = Ridge().fit(X_train, y_train)\r\n",
        "print('Ridge alpha = 1')\r\n",
        "print('Acurácia na base de treinamento: {:.2f}'.format(ridge.score(X_train, y_train)))\r\n",
        "print('Acurácia na base de teste: {:.2f}'.format(ridge.score(X_test, y_test)))\r\n",
        "\r\n",
        "ridge10 = Ridge(alpha=10).fit(X_train, y_train)\r\n",
        "print('Ridge alpha = 10')\r\n",
        "print('Acurácia na base de treinamento: {:.2f}'.format(ridge10.score(X_train, y_train)))\r\n",
        "print('Acurácia na base de teste: {:.2f}'.format(ridge10.score(X_test, y_test)))\r\n",
        "\r\n",
        "ridge01 = Ridge(alpha=0.1).fit(X_train, y_train)\r\n",
        "print('Ridge alpha= 0.1')\r\n",
        "print('Acurácia na base de treinamento: {:.2f}'.format(ridge01.score(X_train, y_train)))\r\n",
        "print('Acurácia na base de teste: {:.2f}'.format(ridge01.score(X_test, y_test)))"
      ],
      "execution_count": null,
      "outputs": [
        {
          "output_type": "stream",
          "text": [
            "Ridge alpha = 1\n",
            "Acurácia na base de treinamento: 0.89\n",
            "Acurácia na base de teste: 0.75\n",
            "Ridge alpha = 10\n",
            "Acurácia na base de treinamento: 0.79\n",
            "Acurácia na base de teste: 0.64\n",
            "Ridge alpha= 0.1\n",
            "Acurácia na base de treinamento: 0.93\n",
            "Acurácia na base de teste: 0.77\n"
          ],
          "name": "stdout"
        }
      ]
    },
    {
      "cell_type": "markdown",
      "metadata": {
        "id": "DX2UcYABGdeP"
      },
      "source": [
        "## Comparação da Regressão Linear e Ridge\r\n",
        "\r\n",
        "O gráfico exibe a magnitude dos coeficientes obtidos por cada método. Pode-se observar como a regularização afeta a magnitude dos coeficientes do Ridge como um todo, mas sem zerar coeficientes de uma forma geral."
      ]
    },
    {
      "cell_type": "code",
      "metadata": {
        "colab": {
          "base_uri": "https://localhost:8080/",
          "height": 488
        },
        "id": "GbKsPrH_GuuH",
        "outputId": "1a34f395-056b-4652-bb04-8c485806fe33"
      },
      "source": [
        "plt.figure(figsize=(10, 7.5))\r\n",
        "plt.plot(ridge.coef_, 's', label='Ridge alpha = 1')\r\n",
        "plt.plot(ridge10.coef_, '^', label='Ridge alpha = 10')\r\n",
        "plt.plot(ridge.coef_, 'v', label='Ridge alpha = 0.1')\r\n",
        "plt.plot(lr.coef_, 'o', label='Regressão Linear')\r\n",
        "plt.xlabel('Coeficiente')\r\n",
        "plt.ylabel('Magnitude')\r\n",
        "plt.hlines(0, 0, len(lr.coef_))\r\n",
        "plt.ylim(-25, 25)\r\n",
        "plt.legend()"
      ],
      "execution_count": null,
      "outputs": [
        {
          "output_type": "execute_result",
          "data": {
            "text/plain": [
              "<matplotlib.legend.Legend at 0x7f31b826fdd8>"
            ]
          },
          "metadata": {
            "tags": []
          },
          "execution_count": 32
        },
        {
          "output_type": "display_data",
          "data": {
            "image/png": "[encoded data removed]",
            "text/plain": [
              "<Figure size 720x540 with 1 Axes>"
            ]
          },
          "metadata": {
            "tags": [],
            "needs_background": "light"
          }
        }
      ]
    },
    {
      "cell_type": "markdown",
      "metadata": {
        "id": "mcT8Oi-CIgcO"
      },
      "source": [
        "## LASSO (Regressão linear com regularização L1)\r\n",
        "\r\n",
        "Força uma redução do valor dos coeficientes, podendo zerar diversos coeficientes cujos atributos não contribuem significativamente para a previsão. Muito utilizado no apoio á tarefa de selação de atributos - *feature selection*.\r\n",
        "\r\n",
        "A força da regularização é dada pelo atributo *alpha*, com valor igual à 1. Alpha=0 resulta na regressão liear tradicional."
      ]
    },
    {
      "cell_type": "code",
      "metadata": {
        "colab": {
          "base_uri": "https://localhost:8080/"
        },
        "id": "l1ANXTiKJCxQ",
        "outputId": "c23a9fb7-20fc-414a-af6b-2496c2e74986"
      },
      "source": [
        "lasso = Lasso().fit(X_train, y_train)\r\n",
        "print('Lasso alpha = 1')\r\n",
        "print('Acurácia na base de treinamento: {:.2f}'.format(lasso.score(X_train, y_train)))\r\n",
        "print('Acurácia na base de teste: {:.2f}'.format(lasso.score(X_test, y_test)))\r\n",
        "print('Número de atributos usados: {}'.format(np.sum(lasso.coef_ != 0)))\r\n",
        "\r\n",
        "lasso001 = Lasso(alpha=0.01, max_iter=100000).fit(X_train, y_train)\r\n",
        "print('Lasso alpha = 0.01')\r\n",
        "print('Acurácia na base de treinamento: {:.2f}'.format(lasso001.score(X_train, y_train)))\r\n",
        "print('Acurácia na base de teste: {:.2f}'.format(lasso001.score(X_test, y_test)))\r\n",
        "print('Número de atributos usados: {}'.format(np.sum(lasso001.coef_ != 0)))\r\n",
        "\r\n",
        "lasso00001 = Lasso(alpha=0.0001, max_iter=100000).fit(X_train, y_train)\r\n",
        "print('Lasso alpha = 0.0001')\r\n",
        "print('Acurácia na base de treinamento: {:.2f}'.format(lasso00001.score(X_train, y_train)))\r\n",
        "print('Acurácia na base de teste: {:.2f}'.format(lasso00001.score(X_test, y_test)))\r\n",
        "print('Número de atributos usados: {}'.format(np.sum(lasso00001.coef_ != 0)))"
      ],
      "execution_count": 35,
      "outputs": [
        {
          "output_type": "stream",
          "text": [
            "Lasso alpha = 1\n",
            "Acurácia na base de treinamento: 0.29\n",
            "Acurácia na base de teste: 0.21\n",
            "Número de atributos usados: 4\n",
            "Lasso alpha = 0.01\n",
            "Acurácia na base de treinamento: 0.90\n",
            "Acurácia na base de teste: 0.77\n",
            "Número de atributos usados: 33\n",
            "Lasso alpha = 0.0001\n",
            "Acurácia na base de treinamento: 0.95\n",
            "Acurácia na base de teste: 0.64\n",
            "Número de atributos usados: 96\n"
          ],
          "name": "stdout"
        }
      ]
    },
    {
      "cell_type": "markdown",
      "metadata": {
        "id": "EUVY5Y5SKV2l"
      },
      "source": [
        "## Comparação da LASSO e Ridge\r\n",
        "\r\n",
        "O gráfico exibe a magnitude dos coeficientes obtidos por cada método."
      ]
    },
    {
      "cell_type": "code",
      "metadata": {
        "colab": {
          "base_uri": "https://localhost:8080/",
          "height": 488
        },
        "id": "J0zayBRwKhkl",
        "outputId": "b6e5f5f4-c879-4b53-9bdd-af4298ad19d9"
      },
      "source": [
        "plt.figure(figsize=(10, 7.5))\r\n",
        "plt.plot(lasso.coef_, 's', label='LASSO alpha = 1')\r\n",
        "plt.plot(lasso001.coef_, '^', label='LASSO alpha = 0.01')\r\n",
        "plt.plot(lasso00001.coef_, 'v', label='LASSO alpha = 0.0001')\r\n",
        "plt.plot(ridge01.coef_, 'o', label='Ridge alpha = 0.1')\r\n",
        "plt.legend(ncol=2, loc=(0, 1.05))\r\n",
        "plt.ylim(-25, 25)\r\n",
        "plt.xlabel('Coeficiente')\r\n",
        "plt.ylabel('Magnitude')\r\n",
        "plt.legend()"
      ],
      "execution_count": 36,
      "outputs": [
        {
          "output_type": "execute_result",
          "data": {
            "text/plain": [
              "<matplotlib.legend.Legend at 0x7f31b802f0f0>"
            ]
          },
          "metadata": {
            "tags": []
          },
          "execution_count": 36
        },
        {
          "output_type": "display_data",
          "data": {
            "image/png": "[encoded data removed]",
            "text/plain": [
              "<Figure size 720x540 with 1 Axes>"
            ]
          },
          "metadata": {
            "tags": [],
            "needs_background": "light"
          }
        }
      ]
    }
  ]
}