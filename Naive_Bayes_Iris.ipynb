{
  "nbformat": 4,
  "nbformat_minor": 0,
  "metadata": {
    "colab": {
      "name": "Naive Bayes - Iris.ipynb",
      "provenance": [],
      "authorship_tag": "ABX9TyMPvk9SYParZuIOoM8oUtfn",
      "include_colab_link": true
    },
    "kernelspec": {
      "name": "python3",
      "display_name": "Python 3"
    }
  },
  "cells": [
    {
      "cell_type": "markdown",
      "metadata": {
        "id": "view-in-github",
        "colab_type": "text"
      },
      "source": [
        "<a href=\"https://colab.research.google.com/github/amarildo86/islr-python/blob/master/Naive_Bayes_Iris.ipynb\" target=\"_parent\"><img src=\"https://colab.research.google.com/assets/colab-badge.svg\" alt=\"Open In Colab\"/></a>"
      ]
    },
    {
      "cell_type": "code",
      "metadata": {
        "id": "nrYQC1sgGGEo"
      },
      "source": [
        "import pandas as pd\r\n",
        "from sklearn.datasets import load_iris\r\n",
        "from sklearn.model_selection import train_test_split\r\n",
        "from sklearn.naive_bayes import GaussianNB\r\n",
        "from sklearn.metrics import confusion_matrix, classification_report"
      ],
      "execution_count": 1,
      "outputs": []
    },
    {
      "cell_type": "code",
      "metadata": {
        "id": "GXSf4P9ZGilD"
      },
      "source": [
        "iris_df = load_iris()"
      ],
      "execution_count": 2,
      "outputs": []
    },
    {
      "cell_type": "code",
      "metadata": {
        "id": "8_9yx8V3Gm2y"
      },
      "source": [
        "X_train, X_test, y_train, y_test = train_test_split(iris_df['data'], iris_df['target'], random_state=0)"
      ],
      "execution_count": 6,
      "outputs": []
    },
    {
      "cell_type": "markdown",
      "metadata": {
        "id": "JWgwHUTYG_1r"
      },
      "source": [
        "## Indução ao Modelo Naïve Bayes\r\n",
        "\r\n",
        "O Gaussian Naïve Bayes é o algoritmo capaz de induzir um modelo a partir de dados numéricos. Os três passos para indução de um modelo são:\r\n",
        "\r\n",
        "1. Instanciar o modeo: GaussianBN()\r\n",
        "2. Treinar o modelo: fit()\r\n",
        "3. Testar o modelo: predict()"
      ]
    },
    {
      "cell_type": "code",
      "metadata": {
        "id": "1aC8_E8BHhrA"
      },
      "source": [
        "gnb = GaussianNB()\r\n",
        "y_pred = gnb.fit(X_train, y_train).predict(X_test)"
      ],
      "execution_count": 7,
      "outputs": []
    },
    {
      "cell_type": "code",
      "metadata": {
        "colab": {
          "base_uri": "https://localhost:8080/"
        },
        "id": "38Kxjmv8HzoH",
        "outputId": "f0c8c7af-04f4-4743-ee65-f6f233fbeb0d"
      },
      "source": [
        "print('Número de erros de classificação: {0} de {1}.'.format((y_test != y_pred).sum(), iris_df.data.shape[0]))"
      ],
      "execution_count": 11,
      "outputs": [
        {
          "output_type": "stream",
          "text": [
            "Número de erros de classificação: 0 de 150.\n"
          ],
          "name": "stdout"
        }
      ]
    },
    {
      "cell_type": "code",
      "metadata": {
        "id": "NqqjEEwGILXp"
      },
      "source": [
        "ac = gnb.score(X_test, y_test)"
      ],
      "execution_count": 12,
      "outputs": []
    },
    {
      "cell_type": "code",
      "metadata": {
        "colab": {
          "base_uri": "https://localhost:8080/"
        },
        "id": "voIAF9DcIln-",
        "outputId": "a7cf2d7f-30a0-4b97-bfd0-952bc59590cf"
      },
      "source": [
        "print('\\nAcurácia do modelo: {0:.2f}%\\n'.format(100*ac))\r\n",
        "print(classification_report(y_test, y_pred, target_names=iris_df.target_names))"
      ],
      "execution_count": 17,
      "outputs": [
        {
          "output_type": "stream",
          "text": [
            "\n",
            "Acurácia do modelo: 100.00%\n",
            "\n",
            "              precision    recall  f1-score   support\n",
            "\n",
            "      setosa       1.00      1.00      1.00        13\n",
            "  versicolor       1.00      1.00      1.00        16\n",
            "   virginica       1.00      1.00      1.00         9\n",
            "\n",
            "    accuracy                           1.00        38\n",
            "   macro avg       1.00      1.00      1.00        38\n",
            "weighted avg       1.00      1.00      1.00        38\n",
            "\n"
          ],
          "name": "stdout"
        }
      ]
    },
    {
      "cell_type": "code",
      "metadata": {
        "colab": {
          "base_uri": "https://localhost:8080/"
        },
        "id": "Wd_EPoUNI8nf",
        "outputId": "8c37be66-fb2c-4364-c241-be765e9706c5"
      },
      "source": [
        "cnf_matrix = confusion_matrix(y_test, y_pred)\r\n",
        "cnf_table = pd.DataFrame(data=cnf_matrix, index=iris_df.target_names, columns=[x + '(prev)' for x in iris_df.target_names])\r\n",
        "print(cnf_table)"
      ],
      "execution_count": 21,
      "outputs": [
        {
          "output_type": "stream",
          "text": [
            "            setosa(prev)  versicolor(prev)  virginica(prev)\n",
            "setosa                13                 0                0\n",
            "versicolor             0                16                0\n",
            "virginica              0                 0                9\n"
          ],
          "name": "stdout"
        }
      ]
    },
    {
      "cell_type": "code",
      "metadata": {
        "id": "8SYVVb8nJion"
      },
      "source": [
        ""
      ],
      "execution_count": null,
      "outputs": []
    }
  ]
}